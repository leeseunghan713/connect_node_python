{
  "nbformat": 4,
  "nbformat_minor": 0,
  "metadata": {
    "colab": {
      "provenance": []
    },
    "kernelspec": {
      "name": "python3",
      "display_name": "Python 3"
    },
    "language_info": {
      "name": "python"
    }
  },
  "cells": [
    {
      "cell_type": "code",
      "execution_count": 3,
      "metadata": {
        "id": "mDu1WoKBhct6",
        "colab": {
          "base_uri": "https://localhost:8080/"
        },
        "outputId": "105b8697-993f-4079-8979-cc37190e3f47"
      },
      "outputs": [
        {
          "output_type": "stream",
          "name": "stdout",
          "text": [
            "NODE PYTHON CONNECT!\n"
          ]
        }
      ],
      "source": [
        "def main ():\n",
        "\n",
        "   print (\"NODE PYTHON CONNECT!\")\n",
        "\n",
        "if __name__ == \"__main__\":\n",
        "\n",
        "   main ()"
      ]
    }
  ]
}